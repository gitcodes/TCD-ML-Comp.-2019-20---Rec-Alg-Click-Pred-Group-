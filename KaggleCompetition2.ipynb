{
 "cells": [
  {
   "cell_type": "markdown",
   "metadata": {
    "colab_type": "text",
    "id": "GSvElciJxmgr"
   },
   "source": [
    "<h1>TCD ML Comp. 2019/20 - Rec Alg Click Pred (Group)</h1>\n",
    "Importing required modules"
   ]
  },
  {
   "cell_type": "code",
   "execution_count": 1,
   "metadata": {
    "colab": {
     "base_uri": "https://localhost:8080/",
     "height": 72
    },
    "colab_type": "code",
    "id": "mr7RgVs7Gav2",
    "outputId": "03709dfa-a16e-4252-d9e7-fe8bad77dd25"
   },
   "outputs": [],
   "source": [
    "import pandas as pd\n",
    "import numpy as np\n",
    "import os\n",
    "import matplotlib.pyplot as plt\n",
    "from sklearn.impute import SimpleImputer\n",
    "from sklearn.ensemble import RandomForestClassifier\n",
    "from sklearn.linear_model import LogisticRegression\n",
    "from sklearn.model_selection import train_test_split\n",
    "from sklearn import preprocessing"
   ]
  },
  {
   "cell_type": "markdown",
   "metadata": {},
   "source": [
    "URL of the datasets and storing datasets in dataframes"
   ]
  },
  {
   "cell_type": "code",
   "execution_count": 2,
   "metadata": {},
   "outputs": [
    {
     "name": "stderr",
     "output_type": "stream",
     "text": [
      "/Users/oommenkuruvilla/opt/anaconda3/lib/python3.7/site-packages/IPython/core/interactiveshell.py:3058: DtypeWarning: Columns (4,5,34) have mixed types. Specify dtype option on import or set low_memory=False.\n",
      "  interactivity=interactivity, compiler=compiler, result=result)\n"
     ]
    }
   ],
   "source": [
    "url_for_traindata =  os.path.join(os.path.realpath('./DATA/'),'tcdml1920-rec-click-pred--training.csv')\n",
    "url_for_testdata = os.path.join(os.path.realpath('./DATA/'),'tcdml1920-rec-click-pred--test.csv')\n",
    "output_url = os.path.join(os.path.realpath('./DATA/'),'output.csv')\n",
    "\n",
    "training_dataframe = pd.read_csv(url_for_traindata) \n",
    "test_dataframe = pd.read_csv(url_for_testdata)"
   ]
  },
  {
   "cell_type": "markdown",
   "metadata": {
    "colab_type": "text",
    "id": "3b63bhRNxkBU"
   },
   "source": [
    "<h3>Understanding taining and test data</h3> "
   ]
  },
  {
   "cell_type": "code",
   "execution_count": 3,
   "metadata": {
    "colab": {
     "base_uri": "https://localhost:8080/",
     "height": 832
    },
    "colab_type": "code",
    "id": "ROHYD8u2GawD",
    "outputId": "95981ca3-9882-4aea-debc-62e868b368b5"
   },
   "outputs": [
    {
     "name": "stdout",
     "output_type": "stream",
     "text": [
      "recommendation_set_id                0\n",
      "user_id                              0\n",
      "session_id                           0\n",
      "query_identifier                     0\n",
      "query_word_count                     0\n",
      "query_char_count                     0\n",
      "query_detected_language              0\n",
      "query_document_id                    0\n",
      "document_language_provided           0\n",
      "year_published                       0\n",
      "number_of_authors                    0\n",
      "abstract_word_count                  0\n",
      "abstract_char_count                  0\n",
      "abstract_detected_language          78\n",
      "first_author_id                      0\n",
      "num_pubs_by_first_author             0\n",
      "organization_id                      0\n",
      "application_type                     0\n",
      "item_type                            0\n",
      "request_received                     0\n",
      "hour_request_received                0\n",
      "response_delivered                   0\n",
      "rec_processing_time                  0\n",
      "app_version                          2\n",
      "app_lang                            80\n",
      "user_os                              0\n",
      "user_os_version                      0\n",
      "user_java_version                    0\n",
      "user_timezone                        0\n",
      "country_by_ip                       10\n",
      "timezone_by_ip                       0\n",
      "local_time_of_request                0\n",
      "local_hour_of_request                0\n",
      "number_of_recs_in_set                0\n",
      "recommendation_algorithm_id_used     0\n",
      "algorithm_class                      0\n",
      "cbf_parser                           0\n",
      "search_title                         0\n",
      "search_keywords                      0\n",
      "search_abstract                      0\n",
      "time_recs_recieved                   0\n",
      "time_recs_displayed                  0\n",
      "time_recs_viewed                     0\n",
      "clicks                               0\n",
      "ctr                                  0\n",
      "set_clicked                          0\n",
      "dtype: int64\n",
      "(385687, 46)\n",
      "   recommendation_set_id user_id session_id      query_identifier  \\\n",
      "0                  46897      \\N         \\N  Withheld for privacy   \n",
      "1                  46898      \\N         \\N  Withheld for privacy   \n",
      "\n",
      "  query_word_count query_char_count query_detected_language query_document_id  \\\n",
      "0                6               35                      en                \\N   \n",
      "1                9               53                      en                \\N   \n",
      "\n",
      "  document_language_provided year_published  ...   cbf_parser search_title  \\\n",
      "0                         \\N             \\N  ...  standard_QP          yes   \n",
      "1                         \\N             \\N  ...  standard_QP          yes   \n",
      "\n",
      "  search_keywords search_abstract time_recs_recieved time_recs_displayed  \\\n",
      "0              no              no                 \\N                  \\N   \n",
      "1              no              no                 \\N                  \\N   \n",
      "\n",
      "   time_recs_viewed clicks  ctr set_clicked  \n",
      "0                \\N      0  0.0           0  \n",
      "1                \\N      0  0.0           0  \n",
      "\n",
      "[2 rows x 46 columns]\n",
      "        recommendation_set_id                           user_id  \\\n",
      "385685                 459535  3902677038066845d9c1efc4073ccbad   \n",
      "385686                 459536                                \\N   \n",
      "\n",
      "                              session_id  \\\n",
      "385685  fb5aee71803d8bd8a4d749f5f6fdab81   \n",
      "385686                                \\N   \n",
      "\n",
      "                                         query_identifier query_word_count  \\\n",
      "385685  Ripcord USB to 9V DC power cable compatible wi...               14   \n",
      "385686  Docear Beta 7 with PDF Metadata Extraction | |...               11   \n",
      "\n",
      "       query_char_count query_detected_language query_document_id  \\\n",
      "385685               77                      en         123994940   \n",
      "385686               77                      en         124016020   \n",
      "\n",
      "       document_language_provided year_published  ...   cbf_parser  \\\n",
      "385685                         \\N             \\N  ...  standard_QP   \n",
      "385686                         \\N             \\N  ...           \\N   \n",
      "\n",
      "       search_title search_keywords search_abstract time_recs_recieved  \\\n",
      "385685          yes              no             yes   14/10/2019 15:15   \n",
      "385686           no              no              no   14/10/2019 15:15   \n",
      "\n",
      "       time_recs_displayed  time_recs_viewed clicks  ctr set_clicked  \n",
      "385685    14/10/2019 15:15                \\N      0  0.0           0  \n",
      "385686    14/10/2019 15:15                \\N      0  0.0           0  \n",
      "\n",
      "[2 rows x 46 columns]\n",
      "recommendation_set_id                1647\n",
      "user_id                              1647\n",
      "session_id                           1647\n",
      "query_identifier                     1647\n",
      "query_word_count                     1647\n",
      "query_char_count                     1647\n",
      "query_detected_language              1647\n",
      "query_document_id                    1647\n",
      "document_language_provided           1647\n",
      "year_published                       1647\n",
      "number_of_authors                    1647\n",
      "abstract_word_count                  1647\n",
      "abstract_char_count                  1647\n",
      "abstract_detected_language           1650\n",
      "first_author_id                      1647\n",
      "num_pubs_by_first_author             1647\n",
      "organization_id                      1647\n",
      "application_type                     1647\n",
      "item_type                            1647\n",
      "request_received                     1647\n",
      "hour_request_received                1647\n",
      "response_delivered                   1647\n",
      "rec_processing_time                  1647\n",
      "app_version                          1647\n",
      "app_lang                             1647\n",
      "user_os                              1647\n",
      "user_os_version                      1647\n",
      "user_java_version                    1647\n",
      "user_timezone                        1647\n",
      "country_by_ip                        1648\n",
      "timezone_by_ip                       1647\n",
      "local_time_of_request                1647\n",
      "local_hour_of_request                1647\n",
      "number_of_recs_in_set                1647\n",
      "recommendation_algorithm_id_used     1647\n",
      "algorithm_class                      1647\n",
      "cbf_parser                           1647\n",
      "search_title                         1647\n",
      "search_keywords                      1647\n",
      "search_abstract                      1647\n",
      "time_recs_recieved                   1647\n",
      "time_recs_displayed                  1647\n",
      "time_recs_viewed                     1647\n",
      "clicks                               1647\n",
      "ctr                                  1647\n",
      "set_clicked                         10792\n",
      "dtype: int64\n",
      "(10792, 46)\n",
      "   recommendation_set_id user_id session_id      query_identifier  \\\n",
      "0                46914.0      \\N         \\N  Withheld for privacy   \n",
      "1                46961.0      \\N         \\N  Withheld for privacy   \n",
      "\n",
      "  query_word_count query_char_count query_detected_language query_document_id  \\\n",
      "0               18              126                      en                \\N   \n",
      "1                5               60                      en                \\N   \n",
      "\n",
      "  document_language_provided year_published  ...   cbf_parser search_title  \\\n",
      "0                         \\N             \\N  ...  standard_QP          yes   \n",
      "1                         \\N             \\N  ...  standard_QP          yes   \n",
      "\n",
      "  search_keywords search_abstract time_recs_recieved time_recs_displayed  \\\n",
      "0              no              no                 nA                  nA   \n",
      "1              no              no                 nA                  nA   \n",
      "\n",
      "   time_recs_viewed clicks ctr set_clicked  \n",
      "0                nA     nA  nA         NaN  \n",
      "1                nA     nA  nA         NaN  \n",
      "\n",
      "[2 rows x 46 columns]\n",
      "       recommendation_set_id user_id session_id query_identifier  \\\n",
      "10790                    NaN     NaN        NaN              NaN   \n",
      "10791                    NaN     NaN        NaN              NaN   \n",
      "\n",
      "      query_word_count query_char_count query_detected_language  \\\n",
      "10790              NaN              NaN                     NaN   \n",
      "10791              NaN              NaN                     NaN   \n",
      "\n",
      "      query_document_id document_language_provided year_published  ...  \\\n",
      "10790               NaN                        NaN            NaN  ...   \n",
      "10791               NaN                        NaN            NaN  ...   \n",
      "\n",
      "      cbf_parser search_title search_keywords search_abstract  \\\n",
      "10790        NaN          NaN             NaN             NaN   \n",
      "10791        NaN          NaN             NaN             NaN   \n",
      "\n",
      "      time_recs_recieved time_recs_displayed  time_recs_viewed clicks  ctr  \\\n",
      "10790                NaN                 NaN               NaN    NaN  NaN   \n",
      "10791                NaN                 NaN               NaN    NaN  NaN   \n",
      "\n",
      "      set_clicked  \n",
      "10790         NaN  \n",
      "10791         NaN  \n",
      "\n",
      "[2 rows x 46 columns]\n"
     ]
    }
   ],
   "source": [
    "print(training_dataframe.isnull().sum())\n",
    "print(training_dataframe.shape)\n",
    "print(training_dataframe.head(2))\n",
    "print(training_dataframe.tail(2))\n",
    "print(test_dataframe.isnull().sum())\n",
    "print(test_dataframe.shape)\n",
    "print(test_dataframe.head(2))\n",
    "print(test_dataframe.tail(2))"
   ]
  },
  {
   "cell_type": "markdown",
   "metadata": {},
   "source": [
    "From the data above, it seems there is around 1647 rows in test data with recommendation_set_id value as null  in dataset, which should not happen so removing it and also remvoing rows having query_char_count value as '\\N'  and rec_processing_time > 100."
   ]
  },
  {
   "cell_type": "code",
   "execution_count": 4,
   "metadata": {},
   "outputs": [],
   "source": [
    "test_dataframe = test_dataframe.dropna(subset=['recommendation_set_id'])\n",
    "index_to_drop = training_dataframe[(training_dataframe.query_char_count == '\\\\N') | (training_dataframe.rec_processing_time > 100)].index\n",
    "training_dataframe.drop(index_to_drop,inplace= True)"
   ]
  },
  {
   "cell_type": "markdown",
   "metadata": {},
   "source": [
    "<h3>Data pre-processing</h3>\n",
    "  * Combining both training and test data for data preprocessing and also replacing '\\N' with  nan.\n",
    "  * Removing columns having more than 75% null value as it does"
   ]
  },
  {
   "cell_type": "code",
   "execution_count": 5,
   "metadata": {},
   "outputs": [
    {
     "name": "stdout",
     "output_type": "stream",
     "text": [
      "(385518, 45)\n",
      "(9145, 45)\n",
      "(394663, 31)\n"
     ]
    }
   ],
   "source": [
    "y = training_dataframe['set_clicked']\n",
    "train_model = training_dataframe.drop(columns =['set_clicked'])\n",
    "test_model =  test_dataframe.drop(columns =['set_clicked'])                                                     \n",
    "combined_df = pd.concat([train_model, test_model])\n",
    "combined_df.replace('\\\\N',np.nan,inplace = True)\n",
    "print(train_model.shape)\n",
    "print(test_model.shape)\n",
    "combined_df.isnull().sum()\n",
    "coulmns_to_drop_based_on_null = (combined_df.isnull().sum()[combined_df.isnull().sum() > 296600]).index.tolist()\n",
    "combined_df.drop(columns = coulmns_to_drop_based_on_null,inplace= True)\n",
    "print(combined_df.shape)"
   ]
  },
  {
   "cell_type": "markdown",
   "metadata": {},
   "source": [
    "* Removing columns that are not useful based on doucmentation, few columns such as ctr are having no values in test file and based on trial and error.\n",
    "* Columns of object type having null values updated with most frequent value.\n",
    "* Changing columns having DtypeWarning(Columns (4,5,34) have mixed types) to numeric."
   ]
  },
  {
   "cell_type": "code",
   "execution_count": 6,
   "metadata": {},
   "outputs": [
    {
     "name": "stdout",
     "output_type": "stream",
     "text": [
      "(394663, 17)\n",
      "recommendation_set_id                    0\n",
      "query_word_count                         2\n",
      "query_char_count                         2\n",
      "query_detected_language               3496\n",
      "application_type                         0\n",
      "item_type                            36972\n",
      "hour_request_received                    0\n",
      "app_version                         119342\n",
      "app_lang                             17510\n",
      "country_by_ip                         1635\n",
      "local_hour_of_request                86452\n",
      "recommendation_algorithm_id_used     10906\n",
      "algorithm_class                          0\n",
      "cbf_parser                          113252\n",
      "search_title                             0\n",
      "search_keywords                          0\n",
      "search_abstract                          0\n",
      "dtype: int64\n",
      "recommendation_set_id               0\n",
      "query_word_count                    0\n",
      "query_char_count                    0\n",
      "query_detected_language             0\n",
      "application_type                    0\n",
      "item_type                           0\n",
      "hour_request_received               0\n",
      "app_version                         0\n",
      "app_lang                            0\n",
      "country_by_ip                       0\n",
      "local_hour_of_request               0\n",
      "recommendation_algorithm_id_used    0\n",
      "algorithm_class                     0\n",
      "cbf_parser                          0\n",
      "search_title                        0\n",
      "search_keywords                     0\n",
      "search_abstract                     0\n",
      "dtype: int64\n"
     ]
    }
   ],
   "source": [
    "columns_not_useful = ['request_received', 'response_delivered', 'rec_processing_time', 'query_identifier', 'query_document_id', 'abstract_word_count', 'abstract_char_count', 'abstract_detected_language', 'number_of_recs_in_set', 'ctr', 'clicks', 'organization_id', 'local_time_of_request', 'timezone_by_ip']\n",
    "combined_df.drop(columns = columns_not_useful,inplace= True)\n",
    "print(combined_df.shape)\n",
    "print(combined_df.isnull().sum())\n",
    "object_type = combined_df.select_dtypes(include = [\"object\"]).columns\n",
    "for item in object_type:\n",
    "    most_frequent = combined_df[item].value_counts().index[0]\n",
    "    combined_df[item] = combined_df[item].fillna(most_frequent)\n",
    "combined_df['query_word_count'] = pd.to_numeric(combined_df['query_word_count'])\n",
    "combined_df['query_char_count'] = pd.to_numeric(combined_df['query_char_count'])\n",
    "combined_df['local_hour_of_request'] = pd.to_numeric(combined_df['local_hour_of_request'])\n",
    "combined_df['recommendation_algorithm_id_used'] = pd.to_numeric(combined_df['recommendation_algorithm_id_used'])\n",
    "print(combined_df.isnull().sum())"
   ]
  },
  {
   "cell_type": "markdown",
   "metadata": {},
   "source": [
    "* Replacing '0' in application_type column to 'blog'\n",
    "* Applying label encoding and one-hot encoding on categorical data."
   ]
  },
  {
   "cell_type": "code",
   "execution_count": 7,
   "metadata": {},
   "outputs": [
    {
     "data": {
      "text/plain": [
       "(394663, 67)"
      ]
     },
     "execution_count": 7,
     "metadata": {},
     "output_type": "execute_result"
    }
   ],
   "source": [
    "combined_df.application_type.where(combined_df.application_type != '0','blog',inplace = True)\n",
    "combined_df_onehot_encoded = pd.get_dummies(combined_df, columns =['cbf_parser','algorithm_class','query_detected_language','search_title', 'search_keywords', 'search_abstract','application_type'])\n",
    "labelencoder = preprocessing.LabelEncoder()\n",
    "cols = ['item_type', 'app_version', 'app_lang', 'country_by_ip']\n",
    "for col in cols:\n",
    "    combined_df_onehot_encoded[col] =  labelencoder.fit_transform(combined_df_onehot_encoded[col])\n",
    "combined_df_onehot_encoded.shape"
   ]
  },
  {
   "cell_type": "markdown",
   "metadata": {},
   "source": [
    "Splitting training and test Data."
   ]
  },
  {
   "cell_type": "code",
   "execution_count": 8,
   "metadata": {},
   "outputs": [],
   "source": [
    "y = y.astype(bool)\n",
    "train_X = combined_df_onehot_encoded.iloc[0:385518, :]\n",
    "test_X  = combined_df_onehot_encoded.iloc[385518:, :]"
   ]
  },
  {
   "cell_type": "markdown",
   "metadata": {},
   "source": [
    "<h3>Randomo forest algorithm implemtation using  Scikit RandomForestRegressor</h3>"
   ]
  },
  {
   "cell_type": "code",
   "execution_count": 9,
   "metadata": {},
   "outputs": [
    {
     "name": "stderr",
     "output_type": "stream",
     "text": [
      "/Users/oommenkuruvilla/opt/anaconda3/lib/python3.7/site-packages/sklearn/ensemble/forest.py:245: FutureWarning: The default value of n_estimators will change from 10 in version 0.20 to 100 in 0.22.\n",
      "  \"10 in version 0.20 to 100 in 0.22.\", FutureWarning)\n"
     ]
    }
   ],
   "source": [
    "reg = RandomForestClassifier()\n",
    "reg.fit(train_X,y)\n",
    "prediction = reg.predict(test_X)\n",
    "result = pd.DataFrame({'recommendation_set_id':test_dataframe.recommendation_set_id,'set_clicked':prediction.astype(int)})\n",
    "result.to_csv(output_url, index = False)"
   ]
  },
  {
   "cell_type": "code",
   "execution_count": 10,
   "metadata": {
    "colab": {
     "base_uri": "https://localhost:8080/",
     "height": 124
    },
    "colab_type": "code",
    "id": "hOr1JiDfY4Id",
    "outputId": "177a2dab-6db6-42ec-fb22-98ec5dff8e13"
   },
   "outputs": [],
   "source": [
    "# from sklearn.metrics import accuracy_score, confusion_matrix\n",
    "# from sklearn.ensemble import RandomForestClassifier\n",
    "# from sklearn import svm, tree\n",
    "# import xgboost\n",
    "# classifiers = []\n",
    "# model1 = xgboost.XGBClassifier()\n",
    "# classifiers.append(model1)\n",
    "# #model2 = svm.SVC()\n",
    "# #classifiers.append(model2)\n",
    "# model3 = tree.DecisionTreeClassifier()\n",
    "# classifiers.append(model3)\n",
    "# model4 = RandomForestClassifier()\n",
    "# classifiers.append(model4)\n",
    "\n",
    "# for clf in classifiers:\n",
    "#     clf.fit(X_train, y_train)\n",
    "#     y_pred= clf.predict(X_test)\n",
    "#     acc = accuracy_score(y_test, y_pred)\n",
    "#     print(\"Accuracy is %s\"%(acc))\n",
    "#     #cm = confusion_matrix(y_test, y_pred)\n",
    "#     #print(\"Confusion Matrix is %s\"%(cm))\n"
   ]
  },
  {
   "cell_type": "code",
   "execution_count": null,
   "metadata": {
    "colab": {},
    "colab_type": "code",
    "id": "7Poonn_UGaxv"
   },
   "outputs": [],
   "source": []
  }
 ],
 "metadata": {
  "colab": {
   "collapsed_sections": [],
   "machine_shape": "hm",
   "name": "KaggleCompetition2.ipynb",
   "provenance": [],
   "toc_visible": true
  },
  "kernelspec": {
   "display_name": "Python 3",
   "language": "python",
   "name": "python3"
  },
  "language_info": {
   "codemirror_mode": {
    "name": "ipython",
    "version": 3
   },
   "file_extension": ".py",
   "mimetype": "text/x-python",
   "name": "python",
   "nbconvert_exporter": "python",
   "pygments_lexer": "ipython3",
   "version": "3.7.4"
  }
 },
 "nbformat": 4,
 "nbformat_minor": 4
}
